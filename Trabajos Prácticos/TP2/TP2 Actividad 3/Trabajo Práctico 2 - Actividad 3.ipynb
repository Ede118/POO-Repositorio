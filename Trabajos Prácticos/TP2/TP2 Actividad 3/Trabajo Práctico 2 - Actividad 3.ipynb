{
 "cells": [
  {
   "cell_type": "markdown",
   "id": "b93f6dc7",
   "metadata": {},
   "source": [
    "\\tableofcontents\n",
    "\n",
    "\\pagebreak"
   ]
  },
  {
   "cell_type": "markdown",
   "id": "ee3ba806",
   "metadata": {},
   "source": [
    "# Consideraciones Generales\n"
   ]
  },
  {
   "cell_type": "markdown",
   "id": "ed4846b2",
   "metadata": {},
   "source": [
    "Este informe documenta el diseño e implementación de un servicio de registro de eventos orientado a objetos en C++17. La solución permite registrar **eventos internos** y **eventos externos** (exigiendo `userId` y `deviceId`), persistirlos en disco y **consultarlos y exportarlos** en **CSV**, **JSON** o **XML**. La persistencia reusa y extiende la clase auxiliar `File` de la actividad anterior, agregando las columnas requeridas: **Fecha**, **ID** y **Tipo de Acción**. La aplicación incluye una **secuencia de prueba significativa** desde un módulo principal (main) que demuestra registro, consulta y exportación."
   ]
  },
  {
   "cell_type": "markdown",
   "id": "ba0b7147",
   "metadata": {},
   "source": [
    "## Alcance\n"
   ]
  },
  {
   "cell_type": "markdown",
   "id": "54b5869e",
   "metadata": {},
   "source": [
    "- Registro de eventos con campos: `Fecha (ISO-8601)`, `ID`, `TipoAccion`, `Nivel`, `Modulo`, `Linea`, `UserId`, `DeviceId`, `Mensaje`.\n",
    "    \n",
    "- Discriminación por **rango de fechas**, **tipo de acción** y **usuario**.\n",
    "    \n",
    "- Exportación en **CSV/JSON/XML** a partir del almacenamiento base en CSV.\n",
    "    \n",
    "- Uso de `File` para IO y presentación, manteniendo sus beneficios de robustez y portabilidad.\n",
    "    "
   ]
  },
  {
   "cell_type": "markdown",
   "id": "f08b48e8",
   "metadata": {},
   "source": [
    "## Hipótesis y supuestos de diseño\n"
   ]
  },
  {
   "cell_type": "markdown",
   "id": "c4e0eb4f",
   "metadata": {},
   "source": [
    "- **Tiempo:** las fechas se serializan como texto ISO-8601 (`YYYY-MM-DDTHH:MM:SS`).\n",
    "    \n",
    "- **IDs:** cada evento recibe un identificador único (UUID o correlativo monotónico).\n",
    "    \n",
    "- **Entrada/salida:** el almacenamiento es **local** y secuencial (append seguro).\n",
    "    \n",
    "- **Errores:** líneas inválidas se descartan con conteo y mensaje; no abortan la ejecución.\n",
    "    \n",
    "- **Concurrencia:** versión base monohilo; si se usa multihilo, `append` se protege con mutex.\n",
    "    \n",
    "- **Compatibilidad:** `File` permanece como clase auxiliar; se añaden encabezados y filas con las nuevas columnas.\n",
    "    "
   ]
  },
  {
   "cell_type": "markdown",
   "id": "8e2b0963",
   "metadata": {},
   "source": [
    "## Principios OO aplicados\n",
    "\n"
   ]
  },
  {
   "cell_type": "markdown",
   "id": "cb14f235",
   "metadata": {},
   "source": [
    "- **SRP:** `RegistroEventos` encapsula la lógica de negocio; `File` encapsula IO.\n",
    "    \n",
    "- **DIP:** el servicio depende de una interfaz de almacenamiento (aquí materializada por `File`) y no de detalles concretos.\n",
    "    \n",
    "- **Bajo acoplamiento / Alta cohesión:** cada clase tiene una responsabilidad clara; la app compone los módulos.\n",
    "    \n",
    "- **Reutilización:** se conserva la API de `File` para lectura y presentación (CSV/JSON/XML).\n",
    "    "
   ]
  },
  {
   "cell_type": "markdown",
   "id": "18da9db7",
   "metadata": {},
   "source": [
    "# Esquema general de la solución\n",
    "\n",
    "\n"
   ]
  },
  {
   "cell_type": "markdown",
   "id": "b539454f",
   "metadata": {},
   "source": [
    "## Diseño de la solución implementada\n"
   ]
  },
  {
   "cell_type": "markdown",
   "id": "fb69cc95",
   "metadata": {},
   "source": [
    "![alt text](Imágenes/DiagramaUML.png)\n",
    "\n",
    "- **`RegistroEventos`**: servicio que valida y registra eventos.\n",
    "    \n",
    "    - `logInterno(tipo, msg, modulo, linea)`\n",
    "        \n",
    "    - `logExterno(tipo, msg, userId, deviceId, modulo, linea)`\n",
    "        \n",
    "    - `query(desde, hasta, tipos, userId)`\n",
    "        \n",
    "    - `exportCSV/JSON/XML(filtros)`\n",
    "        \n",
    "- **`EventRecord`**: estructura inmutable de una fila de evento, con todas las columnas.\n",
    "    \n",
    "- **`File`** (auxiliar): IO de disco.\n",
    "    \n",
    "    - `writeHeader(...)`, `appendRow(...)`, `readAllRows()`, `toCSV/toJSON/toXML(...)`.\n",
    "        \n",
    "\n",
    "Relación: `RegistroEventos` **crea** `EventRecord` y **delegá** en `File` la persistencia y la presentación."
   ]
  },
  {
   "cell_type": "markdown",
   "id": "51db183d",
   "metadata": {},
   "source": [
    "# Interfaces de usuario"
   ]
  },
  {
   "cell_type": "markdown",
   "id": "11b9f022",
   "metadata": {},
   "source": [
    "\n",
    "Interfaz de **línea de comandos** mínima orientativa (puede variar con tu implementación real):\n",
    "\n",
    "- **Registro de ejemplo (main):**\n",
    "    \n",
    "\n",
    "```bash\n",
    "./app --demo               # ejecuta la secuencia de prueba significativa\n",
    "```\n",
    "\n",
    "- **Exportaciones:**\n",
    "    \n",
    "\n",
    "```bash\n",
    "./app --export csv --desde 2025-10-01T00:00:00 --hasta 2025-10-07T23:59:59\n",
    "./app --export json --tipo LECTURA\n",
    "./app --export xml  --user u-42\n",
    "```\n",
    "\n",
    "- **Salida de ejemplo:** muestra conteo total, primeras filas y ubicación del archivo exportado.\n",
    "    "
   ]
  },
  {
   "cell_type": "markdown",
   "id": "4cbe18fc",
   "metadata": {},
   "source": [
    "# Recursos adicionales\n"
   ]
  },
  {
   "cell_type": "markdown",
   "id": "beee1b58",
   "metadata": {},
   "source": [
    "Se emplean exclusivamente bibliotecas estándar de C++ y POSIX ya presentes en la actividad anterior: `<string>`, `<vector>`, `<fstream>`, `<stdexcept>`, `<chrono>`, `<ctime>`, `<sstream>`, `<iomanip>`, `<iostream>`, `<filesystem>`, `<algorithm>`."
   ]
  },
  {
   "cell_type": "markdown",
   "id": "98da24ec",
   "metadata": {},
   "source": [
    "# Manual de instrucciones de la aplicación"
   ]
  },
  {
   "cell_type": "markdown",
   "id": "cd07e45b",
   "metadata": {},
   "source": [
    "## Uso (manual breve)"
   ]
  },
  {
   "cell_type": "markdown",
   "id": "13c354e7",
   "metadata": {},
   "source": [
    "### Compilación\n",
    "\n",
    "Desde el directorio del código:\n",
    "\n",
    "```bash\n",
    "make\n",
    "```\n",
    "\n",
    "Genera el ejecutable `app`.\n"
   ]
  },
  {
   "cell_type": "markdown",
   "id": "79056384",
   "metadata": {},
   "source": [
    "### Secuencia de prueba (módulo principal)\n",
    "\n",
    "```bash\n",
    "./app --demo\n",
    "```\n",
    "\n",
    "La demo:\n",
    "\n",
    "1. Inicializa `File` y escribe cabecera si el archivo está vacío.\n",
    "    \n",
    "2. Registra 3 eventos **internos** con tipos distintos.\n",
    "    \n",
    "3. Registra 2 eventos **externos** (requiere `userId` y `deviceId`).\n",
    "    \n",
    "4. Realiza `query` por tipo y por usuario; imprime conteos y primeras filas.\n",
    "    \n",
    "5. Exporta los resultados filtrados a **CSV/JSON/XML** y muestra la ruta.\n",
    "    \n"
   ]
  },
  {
   "cell_type": "markdown",
   "id": "46099752",
   "metadata": {},
   "source": [
    "### Lectura/serialización (modo lectura)\n",
    "\n",
    "```bash\n",
    "./app --export csv  --tipo ACTUALIZACION\n",
    "./app --export json --user u-42\n",
    "./app --export xml  --desde 2025-10-01T00:00:00 --hasta 2025-10-07T23:59:59\n",
    "```\n",
    "\n",
    "Cada comando lee el CSV base con `File`, filtra y serializa al formato solicitado.\n"
   ]
  },
  {
   "cell_type": "markdown",
   "id": "1479a2e5",
   "metadata": {},
   "source": [
    "## Flujo en modo escritura (registro)"
   ]
  },
  {
   "cell_type": "markdown",
   "id": "11c75c41",
   "metadata": {},
   "source": [
    "\n",
    "1. `RegistroEventos` valida parámetros según sea **interno** o **externo**.\n",
    "    \n",
    "2. Genera `fecha` (ISO-8601) e `id` único.\n",
    "    \n",
    "3. Construye `EventRecord` y delega `appendRow(...)` a `File`.\n",
    "    \n",
    "4. `File` crea cabecera y escribe la fila escapando comas y comillas.\n",
    "    "
   ]
  },
  {
   "cell_type": "markdown",
   "id": "6cfabdfe",
   "metadata": {},
   "source": [
    "## Flujo en modo lectura (consulta y exportación)"
   ]
  },
  {
   "cell_type": "markdown",
   "id": "16d5e1cd",
   "metadata": {},
   "source": [
    "1. `File.readAllRows()` devuelve todas las filas como vectores de string.\n",
    "    \n",
    "2. `RegistroEventos` mapea a `EventRecord` y aplica filtros (`desde/hasta`, `tipos`, `userId`).\n",
    "    \n",
    "3. Exporta con `toCSV/toJSON/toXML(...)` reutilizando utilidades de `File`.\n",
    "    "
   ]
  },
  {
   "cell_type": "markdown",
   "id": "29f0d4e6",
   "metadata": {},
   "source": [
    "## Serialización y robustez\n"
   ]
  },
  {
   "cell_type": "markdown",
   "id": "76666e3b",
   "metadata": {},
   "source": [
    "\n",
    "- CSV base legible y estable; JSON/XML generados a demanda.\n",
    "    \n",
    "- Líneas corruptas se ignoran con logging de diagnóstico.\n",
    "    \n",
    "- En multihilo, `append` se protege con mutex.\n",
    "    \n"
   ]
  },
  {
   "cell_type": "markdown",
   "id": "b32443aa",
   "metadata": {},
   "source": [
    "## Pruebas realizadas"
   ]
  },
  {
   "cell_type": "markdown",
   "id": "05f9d69e",
   "metadata": {},
   "source": [
    "- Compilación y ejecución de `--demo`.\n",
    "    \n",
    "- Verificación de cabecera: `Fecha,ID,TipoAccion,Nivel,Modulo,Linea,UserId,DeviceId,Mensaje`.\n",
    "    \n",
    "- Registro de internos/externos con y sin campos obligatorios (se espera rechazo si faltan en externos).\n",
    "    \n",
    "- Consultas: por rango de fechas, por tipo y por usuario.\n",
    "    \n",
    "- Exportaciones a CSV/JSON/XML y revisión manual de consistencia.\n",
    "\n",
    "A continuación, se dejan capturas de pantalla como evidencia de la funcionalidad del código.\n",
    "\n",
    "![alt text](Imágenes/Prueba1.png)\n",
    "\n",
    "![alt text](Imágenes/Prueba2.png)\n",
    "\n",
    "![alt text](Imágenes/Prueba3.png)"
   ]
  },
  {
   "cell_type": "markdown",
   "id": "3c00b7bc",
   "metadata": {},
   "source": [
    "# Conclusiones\n",
    "\n"
   ]
  },
  {
   "cell_type": "markdown",
   "id": "3ca887a3",
   "metadata": {},
   "source": [
    "La solución satisface el requerimiento de **distinguir eventos internos y externos** con validaciones específicas, **persistir** con las nuevas columnas y **consultar/exportar** en múltiples formatos. La **separación de responsabilidades** entre `RegistroEventos` (lógica) y `File` (IO/serialización) facilita mantenimiento y futuras extensiones, por ejemplo rotación de archivos o almacenamiento alternativo (SQLite) sin reescribir la lógica de negocio."
   ]
  },
  {
   "cell_type": "markdown",
   "id": "d7810dcd",
   "metadata": {},
   "source": [
    "# Referencias consultadas\n",
    "\n",
    "- Apuntes de cátedra de POO (sección “Guía de Trabajos Prácticos”).\n",
    "\n",
    "- Apuntes de cátedra y formato de informe de la actividad previa.\n",
    "\n",
    "- Documentación de la [biblioteca estándar de C++](https://cplusplus.com/reference/) (streams, chrono, filesystem).\n",
    "    "
   ]
  },
  {
   "cell_type": "markdown",
   "id": "e346ac1e",
   "metadata": {},
   "source": [
    "# Anexo - Definición de clases (resumen)"
   ]
  },
  {
   "cell_type": "markdown",
   "id": "b6c8a8a3",
   "metadata": {},
   "source": [
    "```cpp\n",
    "// EventRecord.h\n",
    "struct EventRecord {\n",
    "    std::string fechaISO;   // \"2025-10-07T16:03:12\"\n",
    "    std::string id;         // UUID o correlativo\n",
    "    std::string tipoAccion; // \"CREACION\",\"LECTURA\",\"ACTUALIZACION\",\"ELIMINACION\",...\n",
    "    std::string nivel;      // \"DEBUG\",\"INFO\",\"WARNING\",\"ERROR\"\n",
    "    std::string modulo;\n",
    "    int         linea;\n",
    "    std::string userId;     // vacío si interno\n",
    "    std::string deviceId;   // vacío si interno\n",
    "    std::string mensaje;\n",
    "};\n",
    "```\n",
    "\n",
    "```cpp\n",
    "// RegistroEventos.h (fragmento)\n",
    "class File; // clase auxiliar existente\n",
    "\n",
    "class RegistroEventos {\n",
    "public:\n",
    "    explicit RegistroEventos(File& f);\n",
    "\n",
    "    void logInterno (const std::string& tipo, const std::string& msg,\n",
    "                     const std::string& modulo, int linea);\n",
    "\n",
    "    void logExterno (const std::string& tipo, const std::string& msg,\n",
    "                     const std::string& userId, const std::string& deviceId,\n",
    "                     const std::string& modulo, int linea);\n",
    "\n",
    "    std::vector<EventRecord> query(const std::string& desdeISO = \"\",\n",
    "                                   const std::string& hastaISO = \"\",\n",
    "                                   const std::vector<std::string>& tipos = {},\n",
    "                                   const std::string& userId = \"\");\n",
    "\n",
    "    std::string exportCSV (/* mismos filtros */);\n",
    "    std::string exportJSON(/* mismos filtros */);\n",
    "    std::string exportXML (/* mismos filtros */);\n",
    "\n",
    "private:\n",
    "    File& file_;\n",
    "    void append(const EventRecord& e);\n",
    "    std::vector<EventRecord> readAll();\n",
    "};\n",
    "```\n",
    "\n",
    "```cpp\n",
    "// File.h (métodos relevantes)\n",
    "class File {\n",
    "public:\n",
    "    bool isEmpty() const;\n",
    "    void writeHeader(const std::vector<std::string>& cols);\n",
    "    void appendRow  (const std::vector<std::string>& cols);\n",
    "\n",
    "    std::vector<std::vector<std::string>> readAllRows();\n",
    "    std::string toCSV();\n",
    "    std::string toJSON(const std::vector<std::string>& headers);\n",
    "    std::string toXML (const std::vector<std::string>& headers);\n",
    "};\n",
    "```\n"
   ]
  }
 ],
 "metadata": {
  "Legajo": "14101",
  "author": "F. Barrios Retta",
  "career": "Ing. Mecatrónica",
  "course": "Programación Orientada a Objetos",
  "date": "Octubre 2025",
  "faculty": "Facultad de Ingeniería",
  "footer_note": "Incluye código probado en hardware.",
  "language_info": {
   "name": "python"
  },
  "practice_number": "TP2 – Actividad 3",
  "semestre": "8º",
  "title": "TRABAJO PRACTICO Nº 2 – Desarrollo Orientado a Objetos",
  "university": "Universidad Nacional de Cuyo"
 },
 "nbformat": 4,
 "nbformat_minor": 5
}
