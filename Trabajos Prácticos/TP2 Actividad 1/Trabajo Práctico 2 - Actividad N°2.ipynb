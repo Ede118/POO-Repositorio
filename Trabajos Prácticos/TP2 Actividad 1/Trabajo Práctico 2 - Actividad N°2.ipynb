{
  "cells": [
    {
      "cell_type": "markdown",
      "id": "82d8a8d2",
      "metadata": {},
      "source": [
        "# Consideraciones Generales\n",
        "\n",
        "\\tableofcontents"
      ]
    },
    {
      "cell_type": "markdown",
      "id": "66498e1d",
      "metadata": {},
      "source": [
        "# Esquema general de la solución\n",
        "\n",
        "![alt text](DiagramUmbrello.png)\n"
      ]
    },
    {
      "cell_type": "markdown",
      "id": "0c815c7c",
      "metadata": {},
      "source": [
        "# Interfaces de usuario\n",
        "\n",
        "Imagenes del código que anda\n"
      ]
    },
    {
      "cell_type": "markdown",
      "id": "b93c1605",
      "metadata": {},
      "source": [
        "# Recursos adicionales\n",
        "\n",
        "No se hace uso de ningun componente de software no estandar del lenguaje ni de la plataforma para codificar el programa. A continuación, se listan las librerias estandar de C++ y de Linux que se utilizan en los diferentes archivos `.h` y `.cpp`.\n",
        "\n",
        "```C++\n",
        "#include <string>\n",
        "#include <vector>\n",
        "\n",
        "#include <fstream>\n",
        "#include <stdexcept>\n",
        "#include <termios.h>\n",
        "#include <chrono>\n",
        "#include <ctime>\n",
        "#include <sstream>\n",
        "#include <iomanip>\n",
        "#include <iostream>\n",
        "#include <cstdlib>\n",
        "#include <sys/stat.h>\n",
        "#include <unistd.h>\n",
        "#include <pwd.h>\n",
        "#include <filesystem>\n",
        "#include <system_error>\n",
        "#include <algorithm>\n",
        "\n",
        "```"
      ]
    },
    {
      "cell_type": "markdown",
      "id": "622e43b3",
      "metadata": {},
      "source": [
        "## ¿Para qué sirven los `#include`?\n",
        "\n",
        "- `<string>`: `std::string`, cadenas decentes, no arrays C.\n",
        "\n",
        "- `<vector>`: `std::vector<T>`, arrays dinámicos.\n",
        "\n",
        "- `<fstream>`: `std::ifstream/ofstream/fstream` para leer/escribir archivos.\n",
        "\n",
        "- `<stdexcept>`: excepciones estándar (`std::runtime_error`, `std::invalid_argument…`).\n",
        "\n",
        "- `<termios.h>`: control POSIX de puertos/terminales. Configurar serial: baudrate, paridad, flags.\n",
        "\n",
        "- `<chrono>`: tiempo moderno C++: steady_clock, milliseconds, sleep_for.\n",
        "\n",
        "- `<ctime>`: tiempo estilo C: `time_t`, `std::localtime`, `std::strftime-like`.\n",
        "\n",
        "- `<sstream>`: `std::stringstream` para parsear/armar strings como si fueran streams.\n",
        "\n",
        "- `<iomanip>`: formateo de streams: `std::setw`, `std::setprecision`, `std::put_time`.\n",
        "\n",
        "- `<iostream>`: `std::cout`, `std::cin`, `std::cerr`. El trío inevitable.\n",
        "\n",
        "- `<cstdlib>`: utilidades varias: `std::getenv`, `std::system`, `std::strtol`, `std::rand`.\n",
        "\n",
        "- `<sys/stat.h>`: stat, permisos y mkdir con modos; funciones del Sistema Operativo.\n",
        "\n",
        "- `<unistd.h>`: POSIX: read, write, close, usleep, access, isatty.\n",
        "\n",
        "- `<pwd.h>`: info de usuario: getpwuid para home, etc.\n",
        "\n",
        "- `<filesystem>`: C++17 paths y archivos: `std::filesystem::path`, `exists`, `create_directories`.\n",
        "\n",
        "- `<system_error>`: `std::error_code` y `std::system_error` para reportes de errores del Sistema Operativo.\n",
        "\n",
        "- `<algorithm>`: `std::sort`, `std::find`, `std::transform`, `std::accumulate…` herramientas útiles."
      ]
    },
    {
      "cell_type": "markdown",
      "id": "8f56e106",
      "metadata": {},
      "source": [
        "# Manual de instrucciones de la aplicación"
      ]
    },
    {
      "cell_type": "markdown",
      "id": "e4a592c6",
      "metadata": {},
      "source": [
        "## Diseño de la solución\n",
        "Se adoptó una arquitectura simple orientada a objetos, respetando el diagrama de clases provisto en la consigna. El diagrama actualizado se ilustra a continuación:\n",
        "\n",
        "\n",
        "- **App** coordina la ejecución general y delega en `CLI` la interpretación de argumentos.\n",
        "- **CLI** encapsula la lectura de los parámetros y expone *getters* tipados (`Mode`, `IOFormat`).\n",
        "- **File** maneja la persistencia en CSV, mantiene los metadatos (`FileInfo`) y ofrece conversores a JSON/XML.\n",
        "- **SerialPort** abstrae la comunicación por puerto serie usando `termios` para trabajar en modo crudo a 115200 bauds.\n",
        "- **Types** concentra tipos comunes (`AppError`, `Mode`, `IOFormat`) y las funciones utilitarias `parseLine` y `tryParseHeaderTag`.\n"
      ]
    },
    {
      "cell_type": "markdown",
      "id": "a9708085",
      "metadata": {},
      "source": [
        "### Flujo en modo escritura\n",
        "1. El operador define el formato esperado mediante `-i`.\n",
        "2. `App` abre/crea el CSV en el directorio indicado y realiza, si es necesario, la cabecera `#h:`.\n",
        "3. Para cada muestra se envía el byte de *handshake* (`c`, `j` o `x`) y se espera la respuesta del µC.\n",
        "4. `parseLine` detecta el formato real, normaliza la estructura y devuelve un vector de campos.\n",
        "5. `File::writeParsed` escapa los valores y los persiste siempre en CSV.\n",
        "6. Se contabilizan las lecturas correctas y, al finalizar, se informa la tabla de metadatos.\n"
      ]
    },
    {
      "cell_type": "markdown",
      "id": "edd86f99",
      "metadata": {},
      "source": [
        "### Flujo en modo lectura\n",
        "1. `CLI` determina el formato deseado (`-o`).\n",
        "2. `File` abre el CSV, actualiza los metadatos y expone `getInfoTable()`.\n",
        "3. En función del formato elegido se reutiliza el CSV original (`toCSV()`), se arma un arreglo JSON (`toJSON()`) o un documento XML (`toXML()`).\n",
        "4. Cuando no existen encabezados explícitos se generan identificadores genéricos (`c1`, `c2`, ...).\n"
      ]
    },
    {
      "cell_type": "markdown",
      "id": "a50f3345",
      "metadata": {},
      "source": [
        "## Serialización y robustez\n",
        "- Se configuran 115200 bauds, modo 8N1 sin control de flujo hardware.\n",
        "- El `timeout` de lectura se fijó en 2000 ms para compensar jitter en la transmisión.\n",
        "- Las líneas incompletas o vacías se descartan sin afectar el contador de lecturas exitosas.\n",
        "- `File::countRowsOnDisk()` y `readAllRows()` ignoran comentarios y filas vacías para mantener una dimensión realista del dataset.\n"
      ]
    },
    {
      "cell_type": "markdown",
      "id": "37ced0c8",
      "metadata": {},
      "source": [
        "## Pruebas realizadas\n",
        "- Compilación con `make` (usar desde `Codigos/`).\n",
        "- Captura de 20 muestras desde el µC con `./app -m w -i c -n 20 -s /dev/ttyACM0 -d logs -f sensor`.\n",
        "- Visualización en los tres formatos disponibles: `./app -m r -o c`, `./app -m r -o j`, `./app -m r -o x`.\n",
        "- Verificación manual de la consistencia del CSV resultante (`logs/sensor.csv`).\n"
      ]
    },
    {
      "cell_type": "markdown",
      "id": "e78ba388",
      "metadata": {},
      "source": [
        "# Conclusiones\n",
        "\n",
        "La herramienta cumple con la consigna del Trabajo Práctico Nº 2 al brindar una solución modular, extensible y alineada con los principios de diseño orientado a objetos. Se lograron separar responsabilidades, normalizar formatos heterogéneos y facilitar la interacción con el µC mediante un protocolo sencillo de handshakes.\n"
      ]
    },
    {
      "cell_type": "markdown",
      "id": "7f26082d",
      "metadata": {},
      "source": [
        "# Referencias consultadas\n",
        "\n",
        "\n"
      ]
    },
    {
      "cell_type": "markdown",
      "id": "a93c30ce",
      "metadata": {},
      "source": [
        "# Anexo – Comandos útiles\n",
        "\n",
        "```bash\n",
        "# Compilación\n",
        "make\n",
        "\n",
        "# Captura desde el µC (CSV)\n",
        "./app -m w -i c -n 10 -s /dev/ttyACM0 -d logs -f sensor\n",
        "\n",
        "# Lectura en distintos formatos\n",
        "./app -m r -o c -d logs -f sensor   # CSV\n",
        "./app -m r -o j -d logs -f sensor   # JSON\n",
        "./app -m r -o x -d logs -f sensor   # XML\n",
        "\n",
        "# Generar PDF del informe\n",
        "jupyter nbconvert --to pdf \"Trabajo Práctico 2 - Actividad N°2.ipynb\"\n",
        "```\n"
      ]
    }
  ],
  "metadata": {
    "author": "F. Barrios Retta",
    "Legajo": "14101",
    "career": "Ing. Mecatrónica",
    "course": "Programación Orientada a Objetos",
    "date": "Septiembre 2025",
    "faculty": "Facultad de Ingeniería",
    "footer_note": "Incluye código probado en hardware.",
    "language_info": {
      "name": "python"
    },
    "practice_number": "TP2 – Actividad 1",
    "semestre": "8º",
    "title": "TRABAJO PRACTICO Nº 2 – Desarrollo Orientado a Objetos",
    "university": "Universidad Nacional de Cuyo"
  },
  "nbformat": 4,
  "nbformat_minor": 5
}
